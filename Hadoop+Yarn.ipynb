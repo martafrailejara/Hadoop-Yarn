{
 "cells": [
  {
   "cell_type": "markdown",
   "metadata": {},
   "source": [
    "# Levantar un clúster de Hadoop con los servicios de YARN, hacer una prueba.\n"
   ]
  },
  {
   "cell_type": "markdown",
   "metadata": {},
   "source": [
    "#### 1. Crea un directorio para tu proyecto"
   ]
  },
  {
   "cell_type": "code",
   "execution_count": null,
   "metadata": {
    "vscode": {
     "languageId": "plaintext"
    }
   },
   "outputs": [],
   "source": [
    "mkdir hadoop-cluster\n",
    "cd hadoop-cluster"
   ]
  },
  {
   "cell_type": "markdown",
   "metadata": {},
   "source": [
    "#### 2. Dentro de este directorio, crea un archivo docker-compose.yml"
   ]
  },
  {
   "cell_type": "code",
   "execution_count": null,
   "metadata": {
    "vscode": {
     "languageId": "plaintext"
    }
   },
   "outputs": [],
   "source": [
    "services:\n",
    "  namenode:\n",
    "    image: bde2020/hadoop-namenode:2.0.0-hadoop2.7.4-java8\n",
    "    container_name: namenode\n",
    "    environment:\n",
    "      - CLUSTER_NAME=test\n",
    "      - CORE_CONF_fs_defaultFS=hdfs://namenode:8020\n",
    "    ports:\n",
    "      - \"9870:9870\"  # Puerto para la interfaz web del NameNode\n",
    "    volumes:\n",
    "      - namenode_data:/hadoop/dfs/name\n",
    "\n",
    "  datanode:\n",
    "    image: bde2020/hadoop-datanode:2.0.0-hadoop2.7.4-java8\n",
    "    container_name: datanode\n",
    "    environment:\n",
    "      - CORE_CONF_fs_defaultFS=hdfs://namenode:8020\n",
    "      - YARN_CONF_yarn_resourcemanager_hostname=resourcemanager\n",
    "    volumes:\n",
    "      - datanode_data:/hadoop/dfs/data\n",
    "    depends_on:\n",
    "      - namenode\n",
    "\n",
    "  resourcemanager:\n",
    "    image: bde2020/hadoop-resourcemanager:2.0.0-hadoop2.7.4-java8\n",
    "    container_name: resourcemanager\n",
    "    environment:\n",
    "      - CORE_CONF_fs_defaultFS=hdfs://namenode:8020\n",
    "\n",
    "  nodemanager:\n",
    "    image: bde2020/hadoop-nodemanager:2.0.0-hadoop2.7.4-java8\n",
    "    container_name: nodemanager\n",
    "    environment:\n",
    "      - CORE_CONF_fs_defaultFS=hdfs://namenode:8020\n",
    "    depends_on:\n",
    "      - resourcemanager\n",
    "\n",
    "volumes:\n",
    "  namenode_data:\n",
    "  datanode_data:\n"
   ]
  },
  {
   "cell_type": "markdown",
   "metadata": {},
   "source": [
    "#### 3. Levantar el clúster"
   ]
  },
  {
   "cell_type": "code",
   "execution_count": null,
   "metadata": {
    "vscode": {
     "languageId": "plaintext"
    }
   },
   "outputs": [],
   "source": [
    "docker-compose up -d"
   ]
  },
  {
   "cell_type": "markdown",
   "metadata": {},
   "source": [
    "*Puedes verificarlo tambien si quieres*"
   ]
  },
  {
   "cell_type": "code",
   "execution_count": null,
   "metadata": {
    "vscode": {
     "languageId": "plaintext"
    }
   },
   "outputs": [],
   "source": [
    "docker-compose ps"
   ]
  },
  {
   "cell_type": "markdown",
   "metadata": {},
   "source": [
    "#### 4. Crea un archivo de prueba llamado input.txt"
   ]
  },
  {
   "cell_type": "markdown",
   "metadata": {},
   "source": [
    "*Puedes poner un contrenido de prueba*"
   ]
  },
  {
   "cell_type": "code",
   "execution_count": null,
   "metadata": {
    "vscode": {
     "languageId": "plaintext"
    }
   },
   "outputs": [],
   "source": [
    "hello hadoop\n",
    "hello world"
   ]
  },
  {
   "cell_type": "markdown",
   "metadata": {},
   "source": [
    "#### 5. Conéctate al contenedor namenode para usar el comando hdfs"
   ]
  },
  {
   "cell_type": "code",
   "execution_count": null,
   "metadata": {
    "vscode": {
     "languageId": "plaintext"
    }
   },
   "outputs": [],
   "source": [
    "docker exec -it namenode bash"
   ]
  },
  {
   "cell_type": "markdown",
   "metadata": {},
   "source": [
    "#### 6. Dentro del contenedor namenode, crea un directorio en HDFS y carga el archiv"
   ]
  },
  {
   "cell_type": "code",
   "execution_count": null,
   "metadata": {
    "vscode": {
     "languageId": "plaintext"
    }
   },
   "outputs": [],
   "source": [
    "hdfs dfs -mkdir -p /user/hadoop/input\n",
    "hdfs dfs -put /path/to/input.txt /user/hadoop/input"
   ]
  },
  {
   "cell_type": "markdown",
   "metadata": {},
   "source": [
    "#### 7. Aún dentro del contenedor namenode, ejecuta el siguiente comando de wordcount"
   ]
  },
  {
   "cell_type": "code",
   "execution_count": null,
   "metadata": {
    "vscode": {
     "languageId": "plaintext"
    }
   },
   "outputs": [],
   "source": [
    "hadoop jar /usr/local/hadoop/share/hadoop/mapreduce/hadoop-mapreduce-examples-*.jar wordcount /user/hadoop/input /user/hadoop/output"
   ]
  },
  {
   "cell_type": "markdown",
   "metadata": {},
   "source": [
    "*Para que la ruta vaya bien puedes localizar la tuya propia con el siguiente comando, luego le puedes pedir a GPT que te la sustituya*"
   ]
  },
  {
   "cell_type": "code",
   "execution_count": null,
   "metadata": {
    "vscode": {
     "languageId": "plaintext"
    }
   },
   "outputs": [],
   "source": [
    "find / -name 'hadoop-mapreduce-examples-*.jar'"
   ]
  },
  {
   "cell_type": "markdown",
   "metadata": {},
   "source": [
    "#### 8. Dockerizar el proyecto"
   ]
  },
  {
   "cell_type": "markdown",
   "metadata": {},
   "source": [
    "*Crea un dockerfile e introduce esto*"
   ]
  },
  {
   "cell_type": "code",
   "execution_count": null,
   "metadata": {
    "vscode": {
     "languageId": "plaintext"
    }
   },
   "outputs": [],
   "source": [
    "FROM bde2020/hadoop-namenode:2.0.0-hadoop2.7.4-java8\n",
    "COPY docker-compose.yml /app/\n",
    "WORKDIR /app"
   ]
  },
  {
   "cell_type": "markdown",
   "metadata": {},
   "source": [
    "#### 9. Construye la imagen"
   ]
  },
  {
   "cell_type": "code",
   "execution_count": null,
   "metadata": {
    "vscode": {
     "languageId": "plaintext"
    }
   },
   "outputs": [],
   "source": [
    "docker build -t hadoop-cluster-image ."
   ]
  },
  {
   "cell_type": "markdown",
   "metadata": {},
   "source": [
    "*Ahora, cualquier usuario que tenga la imagen puede correr un contenedor basado en esta y ejecutar los comandos para iniciar el clúster.*"
   ]
  }
 ],
 "metadata": {
  "language_info": {
   "name": "python"
  }
 },
 "nbformat": 4,
 "nbformat_minor": 2
}
